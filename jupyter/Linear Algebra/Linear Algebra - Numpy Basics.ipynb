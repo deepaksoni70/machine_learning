{
 "cells": [
  {
   "cell_type": "markdown",
   "metadata": {},
   "source": [
    "# Linear Regression"
   ]
  },
  {
   "cell_type": "markdown",
   "metadata": {},
   "source": [
    "#### Linear regression is an old method from statistics for describing the relationships between variables. It is often used in machine learning for predicting numerical values in simpler regression problems. The common way of summarizing the linear regression equation uses linear algebra notation:\n",
    "y = A·b "
   ]
  },
  {
   "cell_type": "markdown",
   "metadata": {},
   "source": [
    "## Principal Component Analysis\n",
    "Methods for automatically reducing the number of columns of a dataset are called dimensionality reduction, and perhaps the most popular is method is called the principal component analysis or PCA for short.\n",
    "\n",
    "The core of the PCA method is a matrix factorization method from linear algebra. The eigendecomposition can be used and more robust implementations may use the singular-value decomposition or SVD.\n"
   ]
  },
  {
   "cell_type": "markdown",
   "metadata": {},
   "source": [
    "## Latent Semantic Analysis\n",
    "In the sub-ﬁeld of machine learning called natural language processing, it is common to represent documents as large matrices of word occurrences. For example, the columns of the matrix may be the known words in the vocabulary and rows may be sentences, paragraphs, pages or documents of text with cells in the matrix marked as the count or frequency of the number of times the word occurred"
   ]
  },
  {
   "cell_type": "markdown",
   "metadata": {},
   "source": [
    "## Introduction to NumPy Arrays"
   ]
  },
  {
   "cell_type": "code",
   "execution_count": 1,
   "metadata": {},
   "outputs": [
    {
     "name": "stdout",
     "output_type": "stream",
     "text": [
      "[ 1.  2.  3.]\n",
      "(3,)\n",
      "float64\n"
     ]
    }
   ],
   "source": [
    "from numpy import array\n",
    "\n",
    "l=[1.0, 2.0, 3.0]\n",
    "a=array(l)\n",
    "\n",
    "print(a)\n",
    "print(a.shape)\n",
    "print(a.dtype)"
   ]
  },
  {
   "cell_type": "markdown",
   "metadata": {},
   "source": [
    "### Functions to create Arrays"
   ]
  },
  {
   "cell_type": "code",
   "execution_count": 2,
   "metadata": {},
   "outputs": [
    {
     "name": "stdout",
     "output_type": "stream",
     "text": [
      "[[  0.00000000e+000   2.49009086e-321   2.47032823e-323]\n",
      " [  9.13056385e-312   0.00000000e+000   2.47032823e-323]\n",
      " [  9.13056386e-312   0.00000000e+000   3.23815565e-319]]\n",
      "[[ 0.  0.  0.  0.  0.]\n",
      " [ 0.  0.  0.  0.  0.]\n",
      " [ 0.  0.  0.  0.  0.]]\n",
      "[ 1.  1.  1.  1.  1.]\n"
     ]
    }
   ],
   "source": [
    "import numpy as np\n",
    "\n",
    "# empty()\n",
    "a = np.empty([3,3])\n",
    "print(a)\n",
    "\n",
    "# zeros()\n",
    "a = np.zeros([3,5])\n",
    "print(a)\n",
    "\n",
    "# ones()\n",
    "a = np.ones([5])\n",
    "print(a)\n"
   ]
  },
  {
   "cell_type": "markdown",
   "metadata": {},
   "source": [
    "### Combining arrays"
   ]
  },
  {
   "cell_type": "code",
   "execution_count": 3,
   "metadata": {},
   "outputs": [
    {
     "name": "stdout",
     "output_type": "stream",
     "text": [
      "[1 2 3]\n",
      "[4 5 6]\n",
      "[[1 2 3]\n",
      " [4 5 6]]\n",
      "(2, 3)\n",
      "[1 2 3 4 5 6]\n",
      "(6,)\n"
     ]
    }
   ],
   "source": [
    "# Vertical stack\n",
    "\n",
    "a1 = array([1,2,3])\n",
    "print(a1)\n",
    "\n",
    "a2 = array([4,5,6])\n",
    "print(a2)\n",
    "\n",
    "a3 = np.vstack((a1,a2))\n",
    "print(a3)\n",
    "print(a3.shape)\n",
    "\n",
    "# Horizontal Stack\n",
    "a3 = np.hstack((a1,a2))\n",
    "print(a3)\n",
    "print(a3.shape)\n"
   ]
  },
  {
   "cell_type": "markdown",
   "metadata": {},
   "source": [
    "## Index, Slice and Reshape NumPy Arrays"
   ]
  },
  {
   "cell_type": "markdown",
   "metadata": {
    "collapsed": true
   },
   "source": [
    "### one / two dimensional List to array"
   ]
  },
  {
   "cell_type": "code",
   "execution_count": 4,
   "metadata": {},
   "outputs": [
    {
     "name": "stdout",
     "output_type": "stream",
     "text": [
      "[11 22 33 44 55]\n",
      "<class 'numpy.ndarray'>\n",
      "[[11 22]\n",
      " [33 44]\n",
      " [55 66]]\n",
      "<class 'numpy.ndarray'>\n",
      "11\n"
     ]
    }
   ],
   "source": [
    "# one dimensional list of data \n",
    "data = [11, 22, 33, 44, 55] \n",
    "# array of data \n",
    "data = array(data) \n",
    "print(data) \n",
    "print(type(data))\n",
    "\n",
    "# two dimensional list of data \n",
    "data = [[11, 22], [33, 44], [55, 66]] \n",
    "# array of data \n",
    "data = array(data) \n",
    "print(data) \n",
    "print(type(data))\n",
    "\n",
    "print(data[0,0])"
   ]
  },
  {
   "cell_type": "markdown",
   "metadata": {},
   "source": [
    "### Array Slicing "
   ]
  },
  {
   "cell_type": "code",
   "execution_count": 5,
   "metadata": {},
   "outputs": [
    {
     "name": "stdout",
     "output_type": "stream",
     "text": [
      "[11 22 33 44 55]\n",
      "[11]\n",
      "[44 55]\n",
      "[[1 2]\n",
      " [4 5]\n",
      " [7 8]]\n",
      "[3 6 9]\n",
      "[[1 2 3]\n",
      " [4 5 6]]\n",
      "[[7 8]]\n"
     ]
    }
   ],
   "source": [
    "# one dimensional slicing\n",
    "data = np.array([11,22,33,44,55])\n",
    "\n",
    "print(data[:])\n",
    "print(data[0:1])\n",
    "print(data[-2:])\n",
    "\n",
    "# two dimensional slicing\n",
    "data = np.array([\n",
    "    [1,2,3],\n",
    "    [4,5,6],\n",
    "    [7,8,9]\n",
    "])\n",
    "\n",
    "X,y = data[:,:-1], data[:,-1]\n",
    "\n",
    "print(X)\n",
    "print(y)\n",
    "\n",
    "# split data (for train and test)\n",
    "split = 2\n",
    "train, test = data[:split,:], data[split:,0:2]\n",
    "print(train)\n",
    "print(test)"
   ]
  },
  {
   "cell_type": "markdown",
   "metadata": {},
   "source": [
    "### Array Reshaping"
   ]
  },
  {
   "cell_type": "code",
   "execution_count": 6,
   "metadata": {},
   "outputs": [
    {
     "name": "stdout",
     "output_type": "stream",
     "text": [
      "(5,)\n",
      "[[1 2]\n",
      " [4 5]\n",
      " [7 8]]\n",
      "3\n",
      "2\n",
      "Resahping 1D to 2D array\n",
      "5\n",
      "[[11]\n",
      " [22]\n",
      " [33]\n",
      " [44]\n",
      " [55]]\n",
      "Resahping 2D to 3D array\n",
      "[[[1]\n",
      "  [2]\n",
      "  [4]]\n",
      "\n",
      " [[5]\n",
      "  [7]\n",
      "  [8]]]\n"
     ]
    }
   ],
   "source": [
    "# shape of one dimensional array\n",
    "data = np.array([11,22,33,44,55])\n",
    "print (data.shape)\n",
    "\n",
    "# shape of two dimensional array\n",
    "data = np.array([\n",
    "    [1,2],\n",
    "    [4,5],\n",
    "    [7,8]\n",
    "])\n",
    "print (data)\n",
    "print (data.shape[0])\n",
    "print (data.shape[1])\n",
    "\n",
    "print('Resahping 1D to 2D array')\n",
    "data = np.array([11,22,33,44,55])\n",
    "print(data.shape[0])\n",
    "print(data.reshape((data.shape[0],1)))\n",
    "\n",
    "\n",
    "print('Resahping 2D to 3D array')\n",
    "data = np.array([\n",
    "    [1,2],\n",
    "    [4,5],\n",
    "    [7,8]\n",
    "])\n",
    "\n",
    "print(data.reshape((2,data.shape[0],1)))"
   ]
  },
  {
   "cell_type": "markdown",
   "metadata": {
    "collapsed": true
   },
   "source": [
    "### Array Broadcasting"
   ]
  },
  {
   "cell_type": "code",
   "execution_count": 7,
   "metadata": {},
   "outputs": [
    {
     "name": "stdout",
     "output_type": "stream",
     "text": [
      "[3 4 5]\n"
     ]
    }
   ],
   "source": [
    "a = np.array([1,2,3])\n",
    "print(a+2)"
   ]
  },
  {
   "cell_type": "markdown",
   "metadata": {},
   "source": [
    "### Vector Norms\n",
    "\n",
    "#### Vector L1 Norm\n",
    "the L1 norm is calculated as the sum of the absoute vector values."
   ]
  },
  {
   "cell_type": "code",
   "execution_count": 8,
   "metadata": {},
   "outputs": [
    {
     "name": "stdout",
     "output_type": "stream",
     "text": [
      "6.0\n"
     ]
    }
   ],
   "source": [
    "from numpy.linalg import norm\n",
    "a = np.array([1,2,3])\n",
    "\n",
    "l1 = norm(a,1)\n",
    "print(l1)"
   ]
  },
  {
   "cell_type": "markdown",
   "metadata": {},
   "source": [
    "#### Vector L2 norm\n",
    "The L2 norm is calculated as the sum of the squared vector values."
   ]
  },
  {
   "cell_type": "code",
   "execution_count": 9,
   "metadata": {},
   "outputs": [
    {
     "name": "stdout",
     "output_type": "stream",
     "text": [
      "3.74165738677\n"
     ]
    }
   ],
   "source": [
    "l2 = norm(a) # sqrt()\n",
    "print(l2)"
   ]
  },
  {
   "cell_type": "markdown",
   "metadata": {},
   "source": [
    "#### Max Vector norm\n",
    "The max norm is calculated as returning the maximum value of the vector"
   ]
  },
  {
   "cell_type": "code",
   "execution_count": 10,
   "metadata": {},
   "outputs": [
    {
     "name": "stdout",
     "output_type": "stream",
     "text": [
      "inf\n",
      "3.0\n"
     ]
    }
   ],
   "source": [
    "print(np.inf)\n",
    "maxnorm = norm(a,np.inf)\n",
    "print(maxnorm)"
   ]
  },
  {
   "cell_type": "markdown",
   "metadata": {},
   "source": [
    "### Matrix Operations"
   ]
  },
  {
   "cell_type": "code",
   "execution_count": 11,
   "metadata": {},
   "outputs": [
    {
     "name": "stdout",
     "output_type": "stream",
     "text": [
      "[[ 7 10]\n",
      " [15 22]\n",
      " [23 34]]\n"
     ]
    }
   ],
   "source": [
    "# Matrix multiplicastion\n",
    "A = array([\n",
    "    [1,2],\n",
    "    [3,4],\n",
    "    [5,6]\n",
    "])\n",
    "\n",
    "B = array([\n",
    "    [1,2],\n",
    "    [3,4]\n",
    "])\n",
    "\n",
    "C = A.dot(B) # or A @ B\n",
    "print(C)"
   ]
  },
  {
   "cell_type": "code",
   "execution_count": 12,
   "metadata": {},
   "outputs": [
    {
     "name": "stdout",
     "output_type": "stream",
     "text": [
      "[1 2 3]\n",
      "[[1 0 0]\n",
      " [0 2 0]\n",
      " [0 0 3]]\n"
     ]
    }
   ],
   "source": [
    "# diagonal matrix\n",
    "M = array([\n",
    "    [1,2,3],\n",
    "    [1,2,3],\n",
    "    [1,2,3]\n",
    "])\n",
    "\n",
    "d = np.diag(M)\n",
    "print(d)\n",
    "print(np.diag(d))"
   ]
  },
  {
   "cell_type": "code",
   "execution_count": 13,
   "metadata": {},
   "outputs": [
    {
     "name": "stdout",
     "output_type": "stream",
     "text": [
      "[[ 1.  0.  0.]\n",
      " [ 0.  1.  0.]\n",
      " [ 0.  0.  1.]]\n"
     ]
    }
   ],
   "source": [
    "# Identity matrix\n",
    "print(np.identity(3))"
   ]
  },
  {
   "cell_type": "markdown",
   "metadata": {},
   "source": [
    "### Matrix Operations"
   ]
  },
  {
   "cell_type": "code",
   "execution_count": 14,
   "metadata": {},
   "outputs": [
    {
     "name": "stdout",
     "output_type": "stream",
     "text": [
      "[[1 3 5]\n",
      " [2 4 6]]\n"
     ]
    }
   ],
   "source": [
    "# Matrix Transpose\n",
    "print(A.T)"
   ]
  },
  {
   "cell_type": "code",
   "execution_count": 15,
   "metadata": {},
   "outputs": [
    {
     "name": "stdout",
     "output_type": "stream",
     "text": [
      "[[-2.   1. ]\n",
      " [ 1.5 -0.5]]\n",
      "[[  1.00000000e+00   0.00000000e+00]\n",
      " [  1.11022302e-16   1.00000000e+00]]\n",
      "-2.0\n"
     ]
    }
   ],
   "source": [
    "# Inverse of a matrix\n",
    "from numpy.linalg import inv\n",
    "from numpy.linalg import det\n",
    "A = array([\n",
    "    [1,2],\n",
    "    [3,4]\n",
    "])\n",
    "B = inv(A)\n",
    "print(B)\n",
    "print(B.dot(A))\n",
    "\n",
    "# determinant\n",
    "print(det(A))"
   ]
  },
  {
   "cell_type": "code",
   "execution_count": 16,
   "metadata": {},
   "outputs": [
    {
     "name": "stdout",
     "output_type": "stream",
     "text": [
      "2\n",
      "1\n"
     ]
    }
   ],
   "source": [
    "from numpy.linalg import matrix_rank\n",
    "\n",
    "A = array([\n",
    "    [1,2],\n",
    "    [3,4],\n",
    "    [0,0]\n",
    "])\n",
    "\n",
    "print(matrix_rank(A))\n",
    "\n",
    "A = array([\n",
    "    [1,2],\n",
    "    [3,6],\n",
    "])\n",
    "print(matrix_rank(A))"
   ]
  },
  {
   "cell_type": "markdown",
   "metadata": {},
   "source": [
    "### Sparse matrix\n",
    "A matrix having the most of the values 0's.\n",
    "\n",
    "#### Data Preparation\n",
    "we can prepare data using encoding for Sparse Matrix.\n",
    "- One hot encoding\n",
    "- Count encoding\n",
    "- TF-IDF encoding\n",
    "\n",
    "#### Solution of Sparx matrix\n",
    " there are following solutions\n",
    " - Dictionary of Keys\n",
    " - List of List\n",
    " - Coordinate list\n",
    " - Compressed Sparsed Row\n",
    " - Compressed Sparse Column "
   ]
  },
  {
   "cell_type": "code",
   "execution_count": 20,
   "metadata": {},
   "outputs": [
    {
     "name": "stdout",
     "output_type": "stream",
     "text": [
      "[[1 0 0 1 0 0]\n",
      " [0 0 2 0 0 1]\n",
      " [0 0 0 2 0 0]]\n",
      "  (0, 0)\t1\n",
      "  (0, 3)\t1\n",
      "  (1, 2)\t2\n",
      "  (1, 5)\t1\n",
      "  (2, 3)\t2\n",
      "[[1 0 0 1 0 0]\n",
      " [0 0 2 0 0 1]\n",
      " [0 0 0 2 0 0]]\n",
      "0.7222222222222222\n"
     ]
    }
   ],
   "source": [
    "from numpy import array\n",
    "from scipy.sparse import csr_matrix\n",
    "# create dense matrix\n",
    "A = array([\n",
    "[1, 0, 0, 1, 0, 0],\n",
    "[0, 0, 2, 0, 0, 1],\n",
    "[0, 0, 0, 2, 0, 0]])\n",
    "print(A)\n",
    "# convert to sparse matrix (CSR method)\n",
    "S = csr_matrix(A)\n",
    "print(S)\n",
    "# reconstruct dense matrix\n",
    "B = S.todense()\n",
    "print(B)\n",
    "sparsity = 1 - np.count_nonzero(B) / B.size\n",
    "print(sparsity)"
   ]
  },
  {
   "cell_type": "code",
   "execution_count": null,
   "metadata": {},
   "outputs": [],
   "source": []
  }
 ],
 "metadata": {
  "kernelspec": {
   "display_name": "Python 3",
   "language": "python",
   "name": "python3"
  },
  "language_info": {
   "codemirror_mode": {
    "name": "ipython",
    "version": 3
   },
   "file_extension": ".py",
   "mimetype": "text/x-python",
   "name": "python",
   "nbconvert_exporter": "python",
   "pygments_lexer": "ipython3",
   "version": "3.6.3"
  }
 },
 "nbformat": 4,
 "nbformat_minor": 2
}
