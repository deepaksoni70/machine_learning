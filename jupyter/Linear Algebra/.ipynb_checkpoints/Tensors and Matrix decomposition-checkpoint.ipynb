{
 "cells": [
  {
   "cell_type": "markdown",
   "metadata": {},
   "source": [
    "Tensors are a type of data structure used in linear algebra, and like vectors and\n",
    "matrices, you can calculate arithmetic operations with tensors.\n",
    "\n",
    "#### What are Tensors ?\n",
    "A tensor is a generalization of vectors and matrices and is easily understood as a multidimensional array.\n",
    "In the general case, an array of numbers arranged on a regular grid with a variable number of axes is known as a tensor."
   ]
  },
  {
   "cell_type": "code",
   "execution_count": 1,
   "metadata": {},
   "outputs": [
    {
     "name": "stdout",
     "output_type": "stream",
     "text": [
      "(3, 3, 3)\n"
     ]
    }
   ],
   "source": [
    "# create tensor\n",
    "from numpy import array\n",
    "T = array([\n",
    "[[1,2,3], [4,5,6], [7,8,9]],\n",
    "[[11,12,13], [14,15,16], [17,18,19]],\n",
    "[[21,22,23], [24,25,26], [27,28,29]]\n",
    "])\n",
    "print(T.shape)"
   ]
  },
  {
   "cell_type": "code",
   "execution_count": 8,
   "metadata": {},
   "outputs": [
    {
     "name": "stdout",
     "output_type": "stream",
     "text": [
      "[[3 4]\n",
      " [6 8]]\n",
      "11\n"
     ]
    }
   ],
   "source": [
    "from numpy import tensordot\n",
    "\n",
    "A = array([1,2])\n",
    "B = array([3,4])\n",
    "C = tensordot(A, B, axes=0)\n",
    "D = tensordot(A, B, axes=1)\n",
    "print(C)\n",
    "print(D)"
   ]
  },
  {
   "cell_type": "code",
   "execution_count": 14,
   "metadata": {},
   "outputs": [
    {
     "name": "stdout",
     "output_type": "stream",
     "text": [
      "[[-0.16903085  0.89708523  0.40824829]\n",
      " [-0.50709255  0.27602622 -0.81649658]\n",
      " [-0.84515425 -0.34503278  0.40824829]]\n",
      "[[ -5.91607978e+00  -7.43735744e+00  -8.95863510e+00]\n",
      " [  0.00000000e+00   8.28078671e-01   1.65615734e+00]\n",
      " [  0.00000000e+00   0.00000000e+00  -6.66133815e-16]]\n"
     ]
    }
   ],
   "source": [
    "from numpy.linalg import qr\n",
    "from numpy.linalg import cholesky\n",
    "from scipy.linalg import lu\n",
    "\n",
    "A = array([\n",
    "    [1,2,3],\n",
    "    [3,4,5],\n",
    "    [5,6,7]\n",
    "])\n",
    "\n",
    "P,L,U = lu(A)\n",
    "Q,R = qr(A)\n",
    "\n",
    "print(Q)\n",
    "print(R)\n"
   ]
  },
  {
   "cell_type": "markdown",
   "metadata": {},
   "source": [
    "### Eigen Decomposition\n",
    "<pre>\n",
    "Decomposes a matrix into Eigen values and Eigen Vectors\n",
    "play a imp role in the PCA.\n",
    "</pre>\n",
    "\n",
    "### A vector is an eigenvector of a matrix if it satisfies the equation : $A \\cdot \\upsilon = \\lambda \\cdot \\upsilon$\n",
    "#### $ A = Q \\cdot \\Lambda \\cdot Q^{-1}$\n",
    "- $Q$ is a matrix comprised of the eigenvectors\n",
    "- $\\Lambda$  is the diagonal matrix comprised of the eigenvalues\n",
    "- $Q^{-1}$ is the inverse of the matrix comprised of the eigenvectors"
   ]
  },
  {
   "cell_type": "code",
   "execution_count": 2,
   "metadata": {},
   "outputs": [
    {
     "name": "stdout",
     "output_type": "stream",
     "text": [
      "[[1 2 3]\n",
      " [4 5 6]\n",
      " [7 8 9]]\n",
      "[  1.61168440e+01  -1.11684397e+00  -1.30367773e-15]\n",
      "[[-0.23197069 -0.78583024  0.40824829]\n",
      " [-0.52532209 -0.08675134 -0.81649658]\n",
      " [-0.8186735   0.61232756  0.40824829]]\n"
     ]
    }
   ],
   "source": [
    "# eigendecomposition\n",
    "from numpy import array\n",
    "from numpy.linalg import eig\n",
    "# define matrix\n",
    "A = array([\n",
    "[1, 2, 3],\n",
    "[4, 5, 6],\n",
    "[7, 8, 9]])\n",
    "# factorize\n",
    "values, vectors = eig(A)\n",
    "print(values)\n",
    "print(vectors)"
   ]
  },
  {
   "cell_type": "code",
   "execution_count": null,
   "metadata": {},
   "outputs": [],
   "source": []
  }
 ],
 "metadata": {
  "kernelspec": {
   "display_name": "Python 3",
   "language": "python",
   "name": "python3"
  },
  "language_info": {
   "codemirror_mode": {
    "name": "ipython",
    "version": 3
   },
   "file_extension": ".py",
   "mimetype": "text/x-python",
   "name": "python",
   "nbconvert_exporter": "python",
   "pygments_lexer": "ipython3",
   "version": "3.6.3"
  }
 },
 "nbformat": 4,
 "nbformat_minor": 2
}
