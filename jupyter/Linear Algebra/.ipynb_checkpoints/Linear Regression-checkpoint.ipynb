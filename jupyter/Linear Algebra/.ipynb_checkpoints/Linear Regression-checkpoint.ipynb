{
 "cells": [
  {
   "cell_type": "markdown",
   "metadata": {},
   "source": [
    "# Linear Regression"
   ]
  },
  {
   "cell_type": "markdown",
   "metadata": {},
   "source": [
    "#### Linear regression is an old method from statistics for describing the relationships between variables. It is often used in machine learning for predicting numerical values in simpler regression problems. The common way of summarizing the linear regression equation uses linear algebra notation:\n",
    "y = A·b "
   ]
  },
  {
   "cell_type": "markdown",
   "metadata": {},
   "source": [
    "## Principal Component Analysis\n",
    "Methods for automatically reducing the number of columns of a dataset are called dimensionality reduction, and perhaps the most popular is method is called the principal component analysis or PCA for short.\n",
    "\n",
    "The core of the PCA method is a matrix factorization method from linear algebra. The eigendecomposition can be used and more robust implementations may use the singular-value decomposition or SVD.\n"
   ]
  },
  {
   "cell_type": "markdown",
   "metadata": {},
   "source": [
    "## Latent Semantic Analysis\n",
    "In the sub-ﬁeld of machine learning called natural language processing, it is common to represent documents as large matrices of word occurrences. For example, the columns of the matrix may be the known words in the vocabulary and rows may be sentences, paragraphs, pages or documents of text with cells in the matrix marked as the count or frequency of the number of times the word occurred"
   ]
  },
  {
   "cell_type": "markdown",
   "metadata": {},
   "source": [
    "## Introduction to NumPy Arrays"
   ]
  },
  {
   "cell_type": "code",
   "execution_count": 2,
   "metadata": {},
   "outputs": [
    {
     "name": "stdout",
     "output_type": "stream",
     "text": [
      "[ 1.  2.  3.]\n",
      "(3,)\n",
      "float64\n"
     ]
    }
   ],
   "source": [
    "from numpy import array\n",
    "\n",
    "l=[1.0, 2.0, 3.0]\n",
    "a=array(l)\n",
    "\n",
    "print(a)\n",
    "print(a.shape)\n",
    "print(a.dtype)"
   ]
  },
  {
   "cell_type": "markdown",
   "metadata": {},
   "source": [
    "### Functions to create Arrays"
   ]
  },
  {
   "cell_type": "code",
   "execution_count": 3,
   "metadata": {},
   "outputs": [
    {
     "name": "stdout",
     "output_type": "stream",
     "text": [
      "[[  1.69122046e-306   4.00550303e-307   5.84131119e-308]\n",
      " [  1.69122046e-306   1.05700260e-307   1.69121096e-306]\n",
      " [  1.06811015e-306   1.24611470e-306   2.26155701e+137]]\n",
      "[[ 0.  0.  0.  0.  0.]\n",
      " [ 0.  0.  0.  0.  0.]\n",
      " [ 0.  0.  0.  0.  0.]]\n",
      "[ 1.  1.  1.  1.  1.]\n"
     ]
    }
   ],
   "source": [
    "import numpy as np\n",
    "\n",
    "# empty()\n",
    "a = np.empty([3,3])\n",
    "print(a)\n",
    "\n",
    "# zeros()\n",
    "a = np.zeros([3,5])\n",
    "print(a)\n",
    "\n",
    "# ones()\n",
    "a = np.ones([5])\n",
    "print(a)\n"
   ]
  },
  {
   "cell_type": "markdown",
   "metadata": {},
   "source": [
    "### Combining arrays"
   ]
  },
  {
   "cell_type": "code",
   "execution_count": 4,
   "metadata": {},
   "outputs": [
    {
     "name": "stdout",
     "output_type": "stream",
     "text": [
      "[1 2 3]\n",
      "[4 5 6]\n",
      "[[1 2 3]\n",
      " [4 5 6]]\n",
      "(2, 3)\n",
      "[1 2 3 4 5 6]\n",
      "(6,)\n"
     ]
    }
   ],
   "source": [
    "# Vertical stack\n",
    "\n",
    "a1 = array([1,2,3])\n",
    "print(a1)\n",
    "\n",
    "a2 = array([4,5,6])\n",
    "print(a2)\n",
    "\n",
    "a3 = np.vstack((a1,a2))\n",
    "print(a3)\n",
    "print(a3.shape)\n",
    "\n",
    "# Horizontal Stack\n",
    "a3 = np.hstack((a1,a2))\n",
    "print(a3)\n",
    "print(a3.shape)\n"
   ]
  },
  {
   "cell_type": "markdown",
   "metadata": {},
   "source": [
    "## Index, Slice and Reshape NumPy Arrays"
   ]
  },
  {
   "cell_type": "markdown",
   "metadata": {
    "collapsed": true
   },
   "source": [
    "### one / two dimensional List to array"
   ]
  },
  {
   "cell_type": "code",
   "execution_count": 5,
   "metadata": {},
   "outputs": [
    {
     "name": "stdout",
     "output_type": "stream",
     "text": [
      "[11 22 33 44 55]\n",
      "<class 'numpy.ndarray'>\n",
      "[[11 22]\n",
      " [33 44]\n",
      " [55 66]]\n",
      "<class 'numpy.ndarray'>\n",
      "11\n"
     ]
    }
   ],
   "source": [
    "# one dimensional list of data \n",
    "data = [11, 22, 33, 44, 55] \n",
    "# array of data \n",
    "data = array(data) \n",
    "print(data) \n",
    "print(type(data))\n",
    "\n",
    "# two dimensional list of data \n",
    "data = [[11, 22], [33, 44], [55, 66]] \n",
    "# array of data \n",
    "data = array(data) \n",
    "print(data) \n",
    "print(type(data))\n",
    "\n",
    "print(data[0,0])"
   ]
  },
  {
   "cell_type": "markdown",
   "metadata": {},
   "source": [
    "### Array Slicing "
   ]
  },
  {
   "cell_type": "code",
   "execution_count": 13,
   "metadata": {},
   "outputs": [
    {
     "name": "stdout",
     "output_type": "stream",
     "text": [
      "[11 22 33 44 55]\n",
      "[11]\n",
      "[44 55]\n",
      "[[1 2]\n",
      " [4 5]\n",
      " [7 8]]\n",
      "[3 6 9]\n",
      "[[1 2 3]\n",
      " [4 5 6]]\n",
      "[[7 8 9]]\n"
     ]
    }
   ],
   "source": [
    "# one dimensional slicing\n",
    "data = np.array([11,22,33,44,55])\n",
    "\n",
    "print(data[:])\n",
    "print(data[0:1])\n",
    "print(data[-2:])\n",
    "\n",
    "# two dimensional slicing\n",
    "data = np.array([\n",
    "    [1,2,3],\n",
    "    [4,5,6],\n",
    "    [7,8,9]\n",
    "])\n",
    "\n",
    "X,y = data[:,:-1], data[:,-1]\n",
    "\n",
    "print(X)\n",
    "print(y)\n",
    "\n",
    "# split data (for train and test)\n",
    "split = 2\n",
    "train, test = data[:split,:], data[split:,:]\n",
    "print(train)\n",
    "print(test)"
   ]
  },
  {
   "cell_type": "markdown",
   "metadata": {},
   "source": []
  }
 ],
 "metadata": {
  "kernelspec": {
   "display_name": "Python 3",
   "language": "python",
   "name": "python3"
  },
  "language_info": {
   "codemirror_mode": {
    "name": "ipython",
    "version": 3
   },
   "file_extension": ".py",
   "mimetype": "text/x-python",
   "name": "python",
   "nbconvert_exporter": "python",
   "pygments_lexer": "ipython3",
   "version": "3.6.3"
  }
 },
 "nbformat": 4,
 "nbformat_minor": 2
}
