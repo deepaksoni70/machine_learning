{
 "cells": [
  {
   "cell_type": "code",
   "execution_count": 34,
   "metadata": {},
   "outputs": [
    {
     "data": {
      "image/png": "[encoded data removed]",
      "text/plain": [
       "<matplotlib.figure.Figure at 0x225333b3cc0>"
      ]
     },
     "metadata": {},
     "output_type": "display_data"
    }
   ],
   "source": [
    "from sklearn.datasets import make_blobs\n",
    "import numpy as np\n",
    "import matplotlib.pyplot as plt\n",
    "\n",
    "X, y = make_blobs(n_samples=10, centers=2,random_state=42)\n",
    "# print(X)\n",
    "# plot the cluster 0 in red\n",
    "plt.scatter(X[y==0,0],X[y==0,1],c='red')\n",
    "#plot the cluster 1 in blue\n",
    "plt.scatter(X[y==1,0],X[y==1,1],c='blue')\n",
    "plt.show()"
   ]
  },
  {
   "cell_type": "code",
   "execution_count": 31,
   "metadata": {},
   "outputs": [
    {
     "name": "stdout",
     "output_type": "stream",
     "text": [
      "length of Training data :  7\n"
     ]
    }
   ],
   "source": [
    "from sklearn.model_selection import train_test_split\n",
    "X_train, X_test, y_train, y_test = train_test_split(X, y, test_size=0.3, random_state=42)\n",
    "\n",
    "print('length of Training data : ',X_train[:,0].size)"
   ]
  },
  {
   "cell_type": "code",
   "execution_count": 4,
   "metadata": {},
   "outputs": [
    {
     "name": "stderr",
     "output_type": "stream",
     "text": [
      "Using TensorFlow backend.\n"
     ]
    },
    {
     "name": "stdout",
     "output_type": "stream",
     "text": [
      "3/3 [==============================] - 0s 5ms/step\n",
      "\n",
      "\n",
      "Test Loss :  0.0086223827675  , Test Accuracy : 1.0\n"
     ]
    }
   ],
   "source": [
    "from keras.models import Sequential\n",
    "from keras.layers import Dense\n",
    "from keras.optimizers import Adam\n",
    "\n",
    "model = Sequential()\n",
    "model.add(Dense(1, input_shape=(2,), activation=\"sigmoid\"))\n",
    "model.compile(Adam(lr=0.03),'binary_crossentropy',metrics=['accuracy'])\n",
    "model.fit(X_train,y_train,epochs=100,verbose=0) # change the verbose to 1 to view the algo progress\n",
    "eval_result = model.evaluate(X_test,y_test)\n",
    "\n",
    "print(\"\\n\\nTest Loss : \",eval_result[0], ' , Test Accuracy :',eval_result[1])"
   ]
  },
  {
   "cell_type": "code",
   "execution_count": 5,
   "metadata": {},
   "outputs": [
    {
     "name": "stdout",
     "output_type": "stream",
     "text": [
      "amin --  -3.07867200899    bmin -- 0.448421497727\n",
      "amax --  6.20552760515    bmax -- 9.88172085735\n"
     ]
    },
    {
     "data": {
      "image/png": "[encoded data removed]",
      "text/plain": [
       "<matplotlib.figure.Figure at 0x22533308978>"
      ]
     },
     "metadata": {},
     "output_type": "display_data"
    }
   ],
   "source": [
    "amin, bmin = X.min(axis=0) - 0.1\n",
    "amax, bmax = X.max(axis=0) + 0.1\n",
    "print('amin -- ',amin,'   bmin --',bmin)\n",
    "print('amax -- ',amax,'   bmax --',bmax)\n",
    "hticks = np.linspace(amin, amax, 10) #101\n",
    "vticks = np.linspace(bmin, bmax, 10) #101\n",
    "\n",
    "plt.scatter(hticks,vticks)\n",
    "plt.show()"
   ]
  },
  {
   "cell_type": "code",
   "execution_count": 9,
   "metadata": {},
   "outputs": [
    {
     "name": "stdout",
     "output_type": "stream",
     "text": [
      "[ 0.4484215   1.49656587  2.54471024  3.59285462  4.64099899  5.68914336\n",
      "  6.73728774  7.78543211  8.83357648  9.88172086]\n",
      "[[ 0.4484215   0.4484215   0.4484215   0.4484215   0.4484215   0.4484215\n",
      "   0.4484215   0.4484215   0.4484215   0.4484215 ]\n",
      " [ 1.49656587  1.49656587  1.49656587  1.49656587  1.49656587  1.49656587\n",
      "   1.49656587  1.49656587  1.49656587  1.49656587]\n",
      " [ 2.54471024  2.54471024  2.54471024  2.54471024  2.54471024  2.54471024\n",
      "   2.54471024  2.54471024  2.54471024  2.54471024]\n",
      " [ 3.59285462  3.59285462  3.59285462  3.59285462  3.59285462  3.59285462\n",
      "   3.59285462  3.59285462  3.59285462  3.59285462]\n",
      " [ 4.64099899  4.64099899  4.64099899  4.64099899  4.64099899  4.64099899\n",
      "   4.64099899  4.64099899  4.64099899  4.64099899]\n",
      " [ 5.68914336  5.68914336  5.68914336  5.68914336  5.68914336  5.68914336\n",
      "   5.68914336  5.68914336  5.68914336  5.68914336]\n",
      " [ 6.73728774  6.73728774  6.73728774  6.73728774  6.73728774  6.73728774\n",
      "   6.73728774  6.73728774  6.73728774  6.73728774]\n",
      " [ 7.78543211  7.78543211  7.78543211  7.78543211  7.78543211  7.78543211\n",
      "   7.78543211  7.78543211  7.78543211  7.78543211]\n",
      " [ 8.83357648  8.83357648  8.83357648  8.83357648  8.83357648  8.83357648\n",
      "   8.83357648  8.83357648  8.83357648  8.83357648]\n",
      " [ 9.88172086  9.88172086  9.88172086  9.88172086  9.88172086  9.88172086\n",
      "   9.88172086  9.88172086  9.88172086  9.88172086]]\n"
     ]
    }
   ],
   "source": [
    "aa, bb = np.meshgrid(hticks, vticks)\n",
    "# print(hticks)\n",
    "# print(aa)\n",
    "print(vticks)\n",
    "print(bb)"
   ]
  },
  {
   "cell_type": "code",
   "execution_count": 24,
   "metadata": {},
   "outputs": [
    {
     "name": "stdout",
     "output_type": "stream",
     "text": [
      "[[-3.07867201  0.4484215 ]\n",
      " [-2.04709427  0.4484215 ]\n",
      " [-1.01551654  0.4484215 ]\n",
      " [ 0.0160612   0.4484215 ]\n",
      " [ 1.04763893  0.4484215 ]]\n"
     ]
    }
   ],
   "source": [
    "ab = np.c_[aa.ravel(), bb.ravel()]\n",
    "# print(bb.ravel())\n",
    "print(ab[:5])"
   ]
  },
  {
   "cell_type": "code",
   "execution_count": 17,
   "metadata": {},
   "outputs": [
    {
     "data": {
      "image/png": "[encoded data removed]",
      "text/plain": [
       "<matplotlib.figure.Figure at 0x225333081d0>"
      ]
     },
     "metadata": {},
     "output_type": "display_data"
    }
   ],
   "source": [
    "plt.scatter(ab[:,0],ab[:,1])\n",
    "plt.show()"
   ]
  },
  {
   "cell_type": "code",
   "execution_count": 26,
   "metadata": {},
   "outputs": [
    {
     "name": "stdout",
     "output_type": "stream",
     "text": [
      "[[ 0.01744642]\n",
      " [ 0.0556559 ]\n",
      " [ 0.16361338]\n",
      " [ 0.39368054]\n",
      " [ 0.6830557 ]\n",
      " [ 0.87734967]\n",
      " [ 0.95958447]\n",
      " [ 0.98746979]\n",
      " [ 0.9961915 ]\n",
      " [ 0.99884951]\n",
      " [ 0.01360594]\n",
      " [ 0.0437791 ]\n",
      " [ 0.13191698]\n",
      " [ 0.33528063]\n",
      " [ 0.62605292]]\n"
     ]
    }
   ],
   "source": [
    "c = model.predict(ab)\n",
    "print(c[:15])"
   ]
  },
  {
   "cell_type": "code",
   "execution_count": 20,
   "metadata": {},
   "outputs": [
    {
     "name": "stdout",
     "output_type": "stream",
     "text": [
      "(10, 10)\n"
     ]
    }
   ],
   "source": [
    "print(aa.shape)"
   ]
  },
  {
   "cell_type": "code",
   "execution_count": 25,
   "metadata": {},
   "outputs": [
    {
     "name": "stdout",
     "output_type": "stream",
     "text": [
      "[[ 0.01744642  0.0556559   0.16361338  0.39368054  0.6830557   0.87734967\n",
      "   0.95958447  0.98746979  0.9961915   0.99884951]\n",
      " [ 0.01360594  0.0437791   0.13191698  0.33528063  0.62605292  0.84748864\n",
      "   0.94857109  0.98392802  0.99510276  0.99851948]\n",
      " [ 0.01060173  0.03434459  0.10558584  0.2815215   0.56532216  0.81191599\n",
      "   0.93476051  0.97940594  0.99370486  0.99809498]\n",
      " [ 0.00825531  0.02688608  0.08400194  0.23335609  0.50256515  0.77029514\n",
      "   0.91756374  0.97364569  0.99191099  0.99754912]\n",
      " [ 0.00642483  0.02101207  0.06650214  0.19123785  0.43972719  0.72261065\n",
      "   0.8963365   0.96632951  0.98961139  0.99684721]]\n"
     ]
    }
   ],
   "source": [
    "Z = c.reshape(aa.shape)\n",
    "print(Z[:5])"
   ]
  },
  {
   "cell_type": "code",
   "execution_count": null,
   "metadata": {},
   "outputs": [],
   "source": []
  }
 ],
 "metadata": {
  "kernelspec": {
   "display_name": "Python 3",
   "language": "python",
   "name": "python3"
  },
  "language_info": {
   "codemirror_mode": {
    "name": "ipython",
    "version": 3
   },
   "file_extension": ".py",
   "mimetype": "text/x-python",
   "name": "python",
   "nbconvert_exporter": "python",
   "pygments_lexer": "ipython3",
   "version": "3.6.3"
  }
 },
 "nbformat": 4,
 "nbformat_minor": 2
}
